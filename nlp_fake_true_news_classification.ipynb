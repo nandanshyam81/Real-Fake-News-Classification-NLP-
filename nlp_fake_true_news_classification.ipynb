{
 "cells": [
  {
   "cell_type": "code",
   "execution_count": 1,
   "id": "2a2e991f",
   "metadata": {},
   "outputs": [],
   "source": [
    "import pandas as pd"
   ]
  },
  {
   "cell_type": "code",
   "execution_count": 2,
   "id": "bdecbe65",
   "metadata": {},
   "outputs": [],
   "source": [
    "true_data=pd.read_csv('true.csv')"
   ]
  },
  {
   "cell_type": "code",
   "execution_count": 3,
   "id": "4e6a11e4",
   "metadata": {},
   "outputs": [],
   "source": [
    "fake_data=pd.read_csv(\"fake.csv\")"
   ]
  },
  {
   "cell_type": "code",
   "execution_count": 4,
   "id": "ee8dbd73",
   "metadata": {},
   "outputs": [],
   "source": [
    "true_data[\"label\"]=[\"real\"]*len(true_data)"
   ]
  },
  {
   "cell_type": "code",
   "execution_count": 5,
   "id": "4d425d3d",
   "metadata": {},
   "outputs": [],
   "source": [
    "fake_data[\"label\"]=[\"fake\"]*len(fake_data)"
   ]
  },
  {
   "cell_type": "code",
   "execution_count": 6,
   "id": "9e46404e",
   "metadata": {},
   "outputs": [],
   "source": [
    "data=pd.concat([true_data,fake_data])"
   ]
  },
  {
   "cell_type": "code",
   "execution_count": 7,
   "id": "d5f803bb",
   "metadata": {},
   "outputs": [
    {
     "data": {
      "text/plain": [
       "44898"
      ]
     },
     "execution_count": 7,
     "metadata": {},
     "output_type": "execute_result"
    }
   ],
   "source": [
    "len(data)"
   ]
  },
  {
   "cell_type": "code",
   "execution_count": 8,
   "id": "3569402f",
   "metadata": {},
   "outputs": [],
   "source": [
    "data=data[[\"title\",\"label\"]]"
   ]
  },
  {
   "cell_type": "code",
   "execution_count": 9,
   "id": "7982a55c",
   "metadata": {},
   "outputs": [
    {
     "data": {
      "text/html": [
       "<div>\n",
       "<style scoped>\n",
       "    .dataframe tbody tr th:only-of-type {\n",
       "        vertical-align: middle;\n",
       "    }\n",
       "\n",
       "    .dataframe tbody tr th {\n",
       "        vertical-align: top;\n",
       "    }\n",
       "\n",
       "    .dataframe thead th {\n",
       "        text-align: right;\n",
       "    }\n",
       "</style>\n",
       "<table border=\"1\" class=\"dataframe\">\n",
       "  <thead>\n",
       "    <tr style=\"text-align: right;\">\n",
       "      <th></th>\n",
       "      <th>title</th>\n",
       "      <th>label</th>\n",
       "    </tr>\n",
       "  </thead>\n",
       "  <tbody>\n",
       "    <tr>\n",
       "      <th>0</th>\n",
       "      <td>As U.S. budget fight looms, Republicans flip t...</td>\n",
       "      <td>real</td>\n",
       "    </tr>\n",
       "    <tr>\n",
       "      <th>1</th>\n",
       "      <td>U.S. military to accept transgender recruits o...</td>\n",
       "      <td>real</td>\n",
       "    </tr>\n",
       "    <tr>\n",
       "      <th>2</th>\n",
       "      <td>Senior U.S. Republican senator: 'Let Mr. Muell...</td>\n",
       "      <td>real</td>\n",
       "    </tr>\n",
       "    <tr>\n",
       "      <th>3</th>\n",
       "      <td>FBI Russia probe helped by Australian diplomat...</td>\n",
       "      <td>real</td>\n",
       "    </tr>\n",
       "    <tr>\n",
       "      <th>4</th>\n",
       "      <td>Trump wants Postal Service to charge 'much mor...</td>\n",
       "      <td>real</td>\n",
       "    </tr>\n",
       "  </tbody>\n",
       "</table>\n",
       "</div>"
      ],
      "text/plain": [
       "                                               title label\n",
       "0  As U.S. budget fight looms, Republicans flip t...  real\n",
       "1  U.S. military to accept transgender recruits o...  real\n",
       "2  Senior U.S. Republican senator: 'Let Mr. Muell...  real\n",
       "3  FBI Russia probe helped by Australian diplomat...  real\n",
       "4  Trump wants Postal Service to charge 'much mor...  real"
      ]
     },
     "execution_count": 9,
     "metadata": {},
     "output_type": "execute_result"
    }
   ],
   "source": [
    "data.head()"
   ]
  },
  {
   "cell_type": "code",
   "execution_count": 10,
   "id": "96842e46",
   "metadata": {},
   "outputs": [],
   "source": [
    "data['label_num']=data[\"label\"].apply(lambda x: 1 if x=='real' else 0)"
   ]
  },
  {
   "cell_type": "code",
   "execution_count": 11,
   "id": "f92ee66c",
   "metadata": {},
   "outputs": [
    {
     "data": {
      "text/html": [
       "<div>\n",
       "<style scoped>\n",
       "    .dataframe tbody tr th:only-of-type {\n",
       "        vertical-align: middle;\n",
       "    }\n",
       "\n",
       "    .dataframe tbody tr th {\n",
       "        vertical-align: top;\n",
       "    }\n",
       "\n",
       "    .dataframe thead th {\n",
       "        text-align: right;\n",
       "    }\n",
       "</style>\n",
       "<table border=\"1\" class=\"dataframe\">\n",
       "  <thead>\n",
       "    <tr style=\"text-align: right;\">\n",
       "      <th></th>\n",
       "      <th>title</th>\n",
       "      <th>label</th>\n",
       "      <th>label_num</th>\n",
       "    </tr>\n",
       "  </thead>\n",
       "  <tbody>\n",
       "    <tr>\n",
       "      <th>0</th>\n",
       "      <td>As U.S. budget fight looms, Republicans flip t...</td>\n",
       "      <td>real</td>\n",
       "      <td>1</td>\n",
       "    </tr>\n",
       "    <tr>\n",
       "      <th>1</th>\n",
       "      <td>U.S. military to accept transgender recruits o...</td>\n",
       "      <td>real</td>\n",
       "      <td>1</td>\n",
       "    </tr>\n",
       "    <tr>\n",
       "      <th>2</th>\n",
       "      <td>Senior U.S. Republican senator: 'Let Mr. Muell...</td>\n",
       "      <td>real</td>\n",
       "      <td>1</td>\n",
       "    </tr>\n",
       "    <tr>\n",
       "      <th>3</th>\n",
       "      <td>FBI Russia probe helped by Australian diplomat...</td>\n",
       "      <td>real</td>\n",
       "      <td>1</td>\n",
       "    </tr>\n",
       "    <tr>\n",
       "      <th>4</th>\n",
       "      <td>Trump wants Postal Service to charge 'much mor...</td>\n",
       "      <td>real</td>\n",
       "      <td>1</td>\n",
       "    </tr>\n",
       "    <tr>\n",
       "      <th>...</th>\n",
       "      <td>...</td>\n",
       "      <td>...</td>\n",
       "      <td>...</td>\n",
       "    </tr>\n",
       "    <tr>\n",
       "      <th>23476</th>\n",
       "      <td>McPain: John McCain Furious That Iran Treated ...</td>\n",
       "      <td>fake</td>\n",
       "      <td>0</td>\n",
       "    </tr>\n",
       "    <tr>\n",
       "      <th>23477</th>\n",
       "      <td>JUSTICE? Yahoo Settles E-mail Privacy Class-ac...</td>\n",
       "      <td>fake</td>\n",
       "      <td>0</td>\n",
       "    </tr>\n",
       "    <tr>\n",
       "      <th>23478</th>\n",
       "      <td>Sunnistan: US and Allied ‘Safe Zone’ Plan to T...</td>\n",
       "      <td>fake</td>\n",
       "      <td>0</td>\n",
       "    </tr>\n",
       "    <tr>\n",
       "      <th>23479</th>\n",
       "      <td>How to Blow $700 Million: Al Jazeera America F...</td>\n",
       "      <td>fake</td>\n",
       "      <td>0</td>\n",
       "    </tr>\n",
       "    <tr>\n",
       "      <th>23480</th>\n",
       "      <td>10 U.S. Navy Sailors Held by Iranian Military ...</td>\n",
       "      <td>fake</td>\n",
       "      <td>0</td>\n",
       "    </tr>\n",
       "  </tbody>\n",
       "</table>\n",
       "<p>44898 rows × 3 columns</p>\n",
       "</div>"
      ],
      "text/plain": [
       "                                                   title label  label_num\n",
       "0      As U.S. budget fight looms, Republicans flip t...  real          1\n",
       "1      U.S. military to accept transgender recruits o...  real          1\n",
       "2      Senior U.S. Republican senator: 'Let Mr. Muell...  real          1\n",
       "3      FBI Russia probe helped by Australian diplomat...  real          1\n",
       "4      Trump wants Postal Service to charge 'much mor...  real          1\n",
       "...                                                  ...   ...        ...\n",
       "23476  McPain: John McCain Furious That Iran Treated ...  fake          0\n",
       "23477  JUSTICE? Yahoo Settles E-mail Privacy Class-ac...  fake          0\n",
       "23478  Sunnistan: US and Allied ‘Safe Zone’ Plan to T...  fake          0\n",
       "23479  How to Blow $700 Million: Al Jazeera America F...  fake          0\n",
       "23480  10 U.S. Navy Sailors Held by Iranian Military ...  fake          0\n",
       "\n",
       "[44898 rows x 3 columns]"
      ]
     },
     "execution_count": 11,
     "metadata": {},
     "output_type": "execute_result"
    }
   ],
   "source": [
    "data"
   ]
  },
  {
   "cell_type": "code",
   "execution_count": 12,
   "id": "9c15bed4",
   "metadata": {},
   "outputs": [],
   "source": [
    "import spacy"
   ]
  },
  {
   "cell_type": "code",
   "execution_count": 13,
   "id": "8e25dd5e",
   "metadata": {},
   "outputs": [],
   "source": [
    "nlp=spacy.load(\"en_core_web_lg\")"
   ]
  },
  {
   "cell_type": "code",
   "execution_count": 16,
   "id": "14656515",
   "metadata": {},
   "outputs": [],
   "source": [
    "data['title_vec']=data['title'].apply(lambda x:nlp(x).vector)"
   ]
  },
  {
   "cell_type": "code",
   "execution_count": 17,
   "id": "2fe46b30",
   "metadata": {},
   "outputs": [
    {
     "data": {
      "text/html": [
       "<div>\n",
       "<style scoped>\n",
       "    .dataframe tbody tr th:only-of-type {\n",
       "        vertical-align: middle;\n",
       "    }\n",
       "\n",
       "    .dataframe tbody tr th {\n",
       "        vertical-align: top;\n",
       "    }\n",
       "\n",
       "    .dataframe thead th {\n",
       "        text-align: right;\n",
       "    }\n",
       "</style>\n",
       "<table border=\"1\" class=\"dataframe\">\n",
       "  <thead>\n",
       "    <tr style=\"text-align: right;\">\n",
       "      <th></th>\n",
       "      <th>title</th>\n",
       "      <th>label</th>\n",
       "      <th>label_num</th>\n",
       "      <th>title_vec</th>\n",
       "    </tr>\n",
       "  </thead>\n",
       "  <tbody>\n",
       "    <tr>\n",
       "      <th>0</th>\n",
       "      <td>As U.S. budget fight looms, Republicans flip t...</td>\n",
       "      <td>real</td>\n",
       "      <td>1</td>\n",
       "      <td>[-2.0529835, -0.569027, -3.1433282, 0.55970275...</td>\n",
       "    </tr>\n",
       "    <tr>\n",
       "      <th>1</th>\n",
       "      <td>U.S. military to accept transgender recruits o...</td>\n",
       "      <td>real</td>\n",
       "      <td>1</td>\n",
       "      <td>[-1.4419098, 2.333012, -2.0302525, 2.1737072, ...</td>\n",
       "    </tr>\n",
       "    <tr>\n",
       "      <th>2</th>\n",
       "      <td>Senior U.S. Republican senator: 'Let Mr. Muell...</td>\n",
       "      <td>real</td>\n",
       "      <td>1</td>\n",
       "      <td>[0.557869, 2.2574153, 0.1913623, -0.041898414,...</td>\n",
       "    </tr>\n",
       "    <tr>\n",
       "      <th>3</th>\n",
       "      <td>FBI Russia probe helped by Australian diplomat...</td>\n",
       "      <td>real</td>\n",
       "      <td>1</td>\n",
       "      <td>[-1.4035959, 0.07810003, -0.17810063, 2.512658...</td>\n",
       "    </tr>\n",
       "    <tr>\n",
       "      <th>4</th>\n",
       "      <td>Trump wants Postal Service to charge 'much mor...</td>\n",
       "      <td>real</td>\n",
       "      <td>1</td>\n",
       "      <td>[0.010546171, 1.6784946, -0.5903046, 0.4184245...</td>\n",
       "    </tr>\n",
       "    <tr>\n",
       "      <th>...</th>\n",
       "      <td>...</td>\n",
       "      <td>...</td>\n",
       "      <td>...</td>\n",
       "      <td>...</td>\n",
       "    </tr>\n",
       "    <tr>\n",
       "      <th>23476</th>\n",
       "      <td>McPain: John McCain Furious That Iran Treated ...</td>\n",
       "      <td>fake</td>\n",
       "      <td>0</td>\n",
       "      <td>[-1.2280062, -0.20732655, 0.21695367, 1.777606...</td>\n",
       "    </tr>\n",
       "    <tr>\n",
       "      <th>23477</th>\n",
       "      <td>JUSTICE? Yahoo Settles E-mail Privacy Class-ac...</td>\n",
       "      <td>fake</td>\n",
       "      <td>0</td>\n",
       "      <td>[-2.5500412, -1.6628319, -1.3928968, 3.5221353...</td>\n",
       "    </tr>\n",
       "    <tr>\n",
       "      <th>23478</th>\n",
       "      <td>Sunnistan: US and Allied ‘Safe Zone’ Plan to T...</td>\n",
       "      <td>fake</td>\n",
       "      <td>0</td>\n",
       "      <td>[-0.61292523, 0.92750365, 0.5579007, 1.1630958...</td>\n",
       "    </tr>\n",
       "    <tr>\n",
       "      <th>23479</th>\n",
       "      <td>How to Blow $700 Million: Al Jazeera America F...</td>\n",
       "      <td>fake</td>\n",
       "      <td>0</td>\n",
       "      <td>[0.08539355, 1.8890979, -3.357403, 1.223398, 1...</td>\n",
       "    </tr>\n",
       "    <tr>\n",
       "      <th>23480</th>\n",
       "      <td>10 U.S. Navy Sailors Held by Iranian Military ...</td>\n",
       "      <td>fake</td>\n",
       "      <td>0</td>\n",
       "      <td>[-3.4384334, -2.0513124, -1.0778645, 1.9279168...</td>\n",
       "    </tr>\n",
       "  </tbody>\n",
       "</table>\n",
       "<p>44898 rows × 4 columns</p>\n",
       "</div>"
      ],
      "text/plain": [
       "                                                   title label  label_num  \\\n",
       "0      As U.S. budget fight looms, Republicans flip t...  real          1   \n",
       "1      U.S. military to accept transgender recruits o...  real          1   \n",
       "2      Senior U.S. Republican senator: 'Let Mr. Muell...  real          1   \n",
       "3      FBI Russia probe helped by Australian diplomat...  real          1   \n",
       "4      Trump wants Postal Service to charge 'much mor...  real          1   \n",
       "...                                                  ...   ...        ...   \n",
       "23476  McPain: John McCain Furious That Iran Treated ...  fake          0   \n",
       "23477  JUSTICE? Yahoo Settles E-mail Privacy Class-ac...  fake          0   \n",
       "23478  Sunnistan: US and Allied ‘Safe Zone’ Plan to T...  fake          0   \n",
       "23479  How to Blow $700 Million: Al Jazeera America F...  fake          0   \n",
       "23480  10 U.S. Navy Sailors Held by Iranian Military ...  fake          0   \n",
       "\n",
       "                                               title_vec  \n",
       "0      [-2.0529835, -0.569027, -3.1433282, 0.55970275...  \n",
       "1      [-1.4419098, 2.333012, -2.0302525, 2.1737072, ...  \n",
       "2      [0.557869, 2.2574153, 0.1913623, -0.041898414,...  \n",
       "3      [-1.4035959, 0.07810003, -0.17810063, 2.512658...  \n",
       "4      [0.010546171, 1.6784946, -0.5903046, 0.4184245...  \n",
       "...                                                  ...  \n",
       "23476  [-1.2280062, -0.20732655, 0.21695367, 1.777606...  \n",
       "23477  [-2.5500412, -1.6628319, -1.3928968, 3.5221353...  \n",
       "23478  [-0.61292523, 0.92750365, 0.5579007, 1.1630958...  \n",
       "23479  [0.08539355, 1.8890979, -3.357403, 1.223398, 1...  \n",
       "23480  [-3.4384334, -2.0513124, -1.0778645, 1.9279168...  \n",
       "\n",
       "[44898 rows x 4 columns]"
      ]
     },
     "execution_count": 17,
     "metadata": {},
     "output_type": "execute_result"
    }
   ],
   "source": [
    "data"
   ]
  },
  {
   "cell_type": "code",
   "execution_count": 18,
   "id": "fea6789c",
   "metadata": {},
   "outputs": [],
   "source": [
    "from sklearn.model_selection import train_test_split\n"
   ]
  },
  {
   "cell_type": "code",
   "execution_count": 19,
   "id": "8a213673",
   "metadata": {},
   "outputs": [],
   "source": [
    "x_train,x_test,y_train,y_test=train_test_split(data.title_vec,data.label_num,test_size=0.2)"
   ]
  },
  {
   "cell_type": "code",
   "execution_count": 31,
   "id": "6eae3ee4",
   "metadata": {},
   "outputs": [
    {
     "data": {
      "text/plain": [
       "pandas.core.series.Series"
      ]
     },
     "execution_count": 31,
     "metadata": {},
     "output_type": "execute_result"
    }
   ],
   "source": [
    "type(x_train)"
   ]
  },
  {
   "cell_type": "code",
   "execution_count": 36,
   "id": "3aa58c59",
   "metadata": {},
   "outputs": [],
   "source": [
    "import numpy\n",
    "x_train_2d=numpy.stack(x_train)\n",
    "x_test_2d=numpy.stack(x_test)"
   ]
  },
  {
   "cell_type": "code",
   "execution_count": 32,
   "id": "aa07efde",
   "metadata": {},
   "outputs": [
    {
     "data": {
      "text/plain": [
       "numpy.ndarray"
      ]
     },
     "execution_count": 32,
     "metadata": {},
     "output_type": "execute_result"
    }
   ],
   "source": [
    "type(x_train_2d)"
   ]
  },
  {
   "cell_type": "code",
   "execution_count": 37,
   "id": "82f94ff0",
   "metadata": {},
   "outputs": [],
   "source": [
    "from sklearn.naive_bayes import MultinomialNB\n",
    "from sklearn.preprocessing import MinMaxScaler\n",
    "\n",
    "\n",
    "scale=MinMaxScaler()\n"
   ]
  },
  {
   "cell_type": "code",
   "execution_count": 38,
   "id": "6751d0df",
   "metadata": {},
   "outputs": [],
   "source": [
    "x_train_scaled=scale.fit_transform(x_train_2d)\n",
    "x_test_scaled=scale.fit_transform(x_test_2d)"
   ]
  },
  {
   "cell_type": "code",
   "execution_count": 39,
   "id": "e0ec74a6",
   "metadata": {},
   "outputs": [],
   "source": [
    "model=MultinomialNB()"
   ]
  },
  {
   "cell_type": "code",
   "execution_count": 41,
   "id": "de5c4079",
   "metadata": {},
   "outputs": [
    {
     "data": {
      "text/plain": [
       "MultinomialNB()"
      ]
     },
     "execution_count": 41,
     "metadata": {},
     "output_type": "execute_result"
    }
   ],
   "source": [
    "model.fit(x_train_scaled,y_train)"
   ]
  },
  {
   "cell_type": "code",
   "execution_count": 45,
   "id": "ecbc2669",
   "metadata": {},
   "outputs": [
    {
     "name": "stdout",
     "output_type": "stream",
     "text": [
      "              precision    recall  f1-score   support\n",
      "\n",
      "           0       0.97      0.98      0.98      4654\n",
      "           1       0.98      0.97      0.97      4326\n",
      "\n",
      "    accuracy                           0.98      8980\n",
      "   macro avg       0.98      0.98      0.98      8980\n",
      "weighted avg       0.98      0.98      0.98      8980\n",
      "\n"
     ]
    }
   ],
   "source": [
    "from sklearn.metrics import classification_report\n",
    "\n",
    "print(classification_report(y_test,model.predict(x_test_scaled)))"
   ]
  },
  {
   "cell_type": "code",
   "execution_count": 53,
   "id": "2fc8cb7b",
   "metadata": {},
   "outputs": [
    {
     "data": {
      "text/plain": [
       "list"
      ]
     },
     "execution_count": 53,
     "metadata": {},
     "output_type": "execute_result"
    }
   ],
   "source": [
    "x=\"narendra modi is not going to get married in coming days\"\n",
    "y=[nlp(x).vector]\n",
    "type(y)"
   ]
  },
  {
   "cell_type": "code",
   "execution_count": 60,
   "id": "b5f7022d",
   "metadata": {},
   "outputs": [
    {
     "data": {
      "text/plain": [
       "array([1], dtype=int64)"
      ]
     },
     "execution_count": 60,
     "metadata": {},
     "output_type": "execute_result"
    }
   ],
   "source": [
    "model.predict([x_test[6798]])"
   ]
  },
  {
   "cell_type": "code",
   "execution_count": 61,
   "id": "86bcfbff",
   "metadata": {},
   "outputs": [
    {
     "data": {
      "text/plain": [
       "1"
      ]
     },
     "execution_count": 61,
     "metadata": {},
     "output_type": "execute_result"
    }
   ],
   "source": [
    "y_test[6798]"
   ]
  },
  {
   "cell_type": "code",
   "execution_count": null,
   "id": "b975494d",
   "metadata": {},
   "outputs": [],
   "source": []
  }
 ],
 "metadata": {
  "kernelspec": {
   "display_name": "Python 3 (ipykernel)",
   "language": "python",
   "name": "python3"
  },
  "language_info": {
   "codemirror_mode": {
    "name": "ipython",
    "version": 3
   },
   "file_extension": ".py",
   "mimetype": "text/x-python",
   "name": "python",
   "nbconvert_exporter": "python",
   "pygments_lexer": "ipython3",
   "version": "3.9.7"
  }
 },
 "nbformat": 4,
 "nbformat_minor": 5
}
